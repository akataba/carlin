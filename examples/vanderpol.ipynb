{
 "cells": [
  {
   "cell_type": "markdown",
   "metadata": {},
   "source": [
    "**Objetive.** In this tutorial we illustrate the use of several functions that are included in the package, and as running example we use the archifamous Van der Pol oscillator. If you are just interested in obtaining the linearization, the function `linearize` presented at the end may be relevant."
   ]
  },
  {
   "cell_type": "markdown",
   "metadata": {},
   "source": [
    "## Loading the model"
   ]
  },
  {
   "cell_type": "markdown",
   "metadata": {},
   "source": [
    "To read a model from a text file, we use the function `load_model`. The output is a list: \n",
    "- $f$: vector field\n",
    "- $n$: dimension of the state-space\n",
    "- $k$: order of the system"
   ]
  },
  {
   "cell_type": "markdown",
   "metadata": {},
   "source": [
    "The example model `vanderpol.sage` reads as follows:\n",
    "\n",
    "```python\n",
    "# Van der pol oscillator\n",
    "# ======================\n",
    "\n",
    "# dimension of state-space\n",
    "n=2\n",
    "\n",
    "# define the vector of symbolic variables\n",
    "x = polygens(QQ, ['x'+str(1+i) for i in range(n)])\n",
    "\n",
    "# vector field (n-dimensional)\n",
    "f = [None] * n\n",
    "\n",
    "f[0] = x[1]\n",
    "f[1] = x[1] - x[0]^2*x[1] - x[0]\n",
    "```"
   ]
  },
  {
   "cell_type": "code",
   "execution_count": 2,
   "metadata": {
    "collapsed": true
   },
   "outputs": [],
   "source": [
    "%display typeset"
   ]
  },
  {
   "cell_type": "code",
   "execution_count": 3,
   "metadata": {
    "collapsed": false
   },
   "outputs": [
    {
     "data": {
      "text/html": [
       "<html><script type=\"math/tex; mode=display\">\\newcommand{\\Bold}[1]{\\mathbf{#1}}\\left(\\left[x_{2}, - x_{1}^{2} x_{2} -  x_{1} + x_{2}\\right], 2, 3\\right)</script></html>"
      ],
      "text/plain": [
       "([x2, -x1^2*x2 - x1 + x2], 2, 3)"
      ]
     },
     "execution_count": 3,
     "metadata": {},
     "output_type": "execute_result"
    }
   ],
   "source": [
    "from carlin.io import load_model \n",
    "\n",
    "[f, n, k] = load_model('vanderpol.sage')\n",
    "f, n, k"
   ]
  },
  {
   "cell_type": "markdown",
   "metadata": {},
   "source": [
    "## Computing the linearization\n",
    "\n",
    "We can compute the linearization for each integer order $N$ using the function `truncated_matrix`."
   ]
  },
  {
   "cell_type": "code",
   "execution_count": 4,
   "metadata": {
    "collapsed": true
   },
   "outputs": [],
   "source": [
    "from carlin.transformation import truncated_matrix\n",
    "\n",
    "N = 2\n",
    "AN = truncated_matrix(N, 'vanderpol.sage')"
   ]
  },
  {
   "cell_type": "markdown",
   "metadata": {},
   "source": [
    "Notice that $A_N$ is a *sparse* matrix:"
   ]
  },
  {
   "cell_type": "code",
   "execution_count": 6,
   "metadata": {
    "collapsed": false
   },
   "outputs": [
    {
     "data": {
      "text/html": [
       "<html><script type=\"math/tex; mode=display\">\\newcommand{\\Bold}[1]{\\mathbf{#1}}\\verb|<class|\\phantom{\\verb!x!}\\verb|'scipy.sparse.coo.coo_matrix'>|</script></html>"
      ],
      "text/plain": [
       "<class 'scipy.sparse.coo.coo_matrix'>"
      ]
     },
     "execution_count": 6,
     "metadata": {},
     "output_type": "execute_result"
    }
   ],
   "source": [
    "type(AN)"
   ]
  },
  {
   "cell_type": "markdown",
   "metadata": {},
   "source": [
    "The `coo` tag says that it is internally represented as a list of tuples of coordiantes of non-zero values. Indeed, if you try to print `BN`, it will return a long dictionary of `(tuples, values)`.\n",
    "\n",
    "In general, the matrices in Carleman linearization are very sparse, because they arise as a recursion of tensor products with the identity and the canonical description of the system."
   ]
  },
  {
   "cell_type": "markdown",
   "metadata": {},
   "source": [
    "If we want to transform it into a usual matrix (so called dense matrices), we can use the `toarray()` method. This is the analogue of MATLAB's `full(..)` function."
   ]
  },
  {
   "cell_type": "code",
   "execution_count": 7,
   "metadata": {
    "collapsed": false
   },
   "outputs": [
    {
     "data": {
      "text/html": [
       "<html><script type=\"math/tex; mode=display\">\\newcommand{\\Bold}[1]{\\mathbf{#1}}\\left(\\begin{array}{rrrrrr}\n",
       "0.0 & 1.0 & 0.0 & 0.0 & 0.0 & 0.0 \\\\\n",
       "-1.0 & 1.0 & 0.0 & 0.0 & 0.0 & 0.0 \\\\\n",
       "0.0 & 0.0 & 0.0 & 1.0 & 1.0 & 0.0 \\\\\n",
       "0.0 & 0.0 & -1.0 & 1.0 & 0.0 & 1.0 \\\\\n",
       "0.0 & 0.0 & -1.0 & 0.0 & 1.0 & 1.0 \\\\\n",
       "0.0 & 0.0 & 0.0 & -1.0 & -1.0 & 2.0\n",
       "\\end{array}\\right)</script></html>"
      ],
      "text/plain": [
       "[ 0.0  1.0  0.0  0.0  0.0  0.0]\n",
       "[-1.0  1.0  0.0  0.0  0.0  0.0]\n",
       "[ 0.0  0.0  0.0  1.0  1.0  0.0]\n",
       "[ 0.0  0.0 -1.0  1.0  0.0  1.0]\n",
       "[ 0.0  0.0 -1.0  0.0  1.0  1.0]\n",
       "[ 0.0  0.0  0.0 -1.0 -1.0  2.0]"
      ]
     },
     "execution_count": 7,
     "metadata": {},
     "output_type": "execute_result"
    }
   ],
   "source": [
    "matrix(AN.toarray())    # the matrix(..) transforms it into a sage matrix (optional)"
   ]
  },
  {
   "cell_type": "markdown",
   "metadata": {},
   "source": [
    "To export the linearization to an external MAT file, we can use the function `savemat`. Notice that other objects (possibly of different types) can be saved in the same MAT file, which will store them as a cell array. "
   ]
  },
  {
   "cell_type": "code",
   "execution_count": 6,
   "metadata": {
    "collapsed": true
   },
   "outputs": [],
   "source": [
    "import scipy\n",
    "from scipy.io import savemat\n",
    "\n",
    "savemat('vanderpol.mat', {'model':'vanderpol', 'N':N, 'BN':BN})"
   ]
  },
  {
   "cell_type": "markdown",
   "metadata": {},
   "source": [
    "This will generate the file `vanderpol.mat` in the working directory."
   ]
  },
  {
   "cell_type": "markdown",
   "metadata": {},
   "source": [
    "## Computing the error term"
   ]
  },
  {
   "cell_type": "markdown",
   "metadata": {},
   "source": [
    "The error term is computed next. The interpretation is the following. Consider the inputs are the truncation order $N$, and an initial condition $x_0 \\in \\mathbb{R}^n$. The output is a function $\\varepsilon(t)$ such that:\n",
    "$$\n",
    "x(t) \\in \\hat{x}(t) \\oplus \\varepsilon(t) \\mathcal{B}^n_\\infty, \\qquad t \\in I.\n",
    "$$\n",
    "Here the function $\\varepsilon(t)$ has domain $[0,T^*] \\subset \\mathbb{R}^+$. The convergence radius $T^*$ is also given as an output. In the equation of above, $x(t)$ is the exact solution of the original system, and $\\hat{x}(t)$ is the solution of the linear system\n",
    "$$\n",
    "\\hat{x}'(t) = A_N \\hat{x}(t),\\qquad t \\in I.\n",
    "$$\n",
    "The quantity $\\mathcal{B}^n_\\infty$ represents the unit ball in the $n$-dimensional space corresponding to the supremum norm.\n",
    "\n",
    "The error function is\n",
    "$$\n",
    "\\varepsilon(t) = \\dfrac{||\\tilde{x}_0|| e^{||\\tilde{F}_1||t}}{(1+\\beta_0) - \\beta_0 e^{||\\tilde{F}_1||t}}\\left[ \\beta_0 (e^{||\\tilde{F}_1|| t} - 1 )\\right]^N.\n",
    "$$"
   ]
  },
  {
   "cell_type": "markdown",
   "metadata": {},
   "source": [
    "As an example, below we compute the error for the truncation order $N=4$."
   ]
  },
  {
   "cell_type": "code",
   "execution_count": 7,
   "metadata": {
    "collapsed": false
   },
   "outputs": [],
   "source": [
    "from carlin.transformation import error_function\n",
    "\n",
    "N=4\n",
    "x0 = [1, 1]\n",
    "\n",
    "[Ts, eps] = error_function('vanderpol.sage', N, x0)"
   ]
  },
  {
   "cell_type": "markdown",
   "metadata": {
    "collapsed": true
   },
   "source": [
    "Let's check the convergence radius for the `\\varepsilon(t)` function:"
   ]
  },
  {
   "cell_type": "code",
   "execution_count": 8,
   "metadata": {
    "collapsed": false
   },
   "outputs": [
    {
     "data": {
      "text/html": [
       "<html><script type=\"math/tex; mode=display\">\\newcommand{\\Bold}[1]{\\mathbf{#1}}0.274653072167</script></html>"
      ],
      "text/plain": [
       "0.27465307216702745"
      ]
     },
     "execution_count": 8,
     "metadata": {},
     "output_type": "execute_result"
    }
   ],
   "source": [
    "Ts"
   ]
  },
  {
   "cell_type": "markdown",
   "metadata": {
    "collapsed": true
   },
   "source": [
    "The function $\\varepsilon(t)$ is *increasing*, so $\\varepsilon(t) \\leq \\varepsilon(T)$. The formula is:"
   ]
  },
  {
   "cell_type": "code",
   "execution_count": 9,
   "metadata": {
    "collapsed": false
   },
   "outputs": [
    {
     "data": {
      "text/html": [
       "<html><script type=\"math/tex; mode=display\">\\newcommand{\\Bold}[1]{\\mathbf{#1}}\\frac{1.0 \\, {\\left(0.5 \\, e^{\\left(4.0 \\, t\\right)} - 0.5\\right)}^{4} e^{\\left(4.0 \\, t\\right)}}{-0.5 \\, e^{\\left(4.0 \\, t\\right)} + 1.5}</script></html>"
      ],
      "text/plain": [
       "1.0*(0.5*e^(4.0*t) - 0.5)^4*e^(4.0*t)/(-0.5*e^(4.0*t) + 1.5)"
      ]
     },
     "execution_count": 9,
     "metadata": {},
     "output_type": "execute_result"
    }
   ],
   "source": [
    "eps"
   ]
  },
  {
   "cell_type": "code",
   "execution_count": 11,
   "metadata": {
    "collapsed": false
   },
   "outputs": [
    {
     "data": {
      "image/png": "[encoded data removed]",
      "text/plain": [
       "Graphics object consisting of 1 graphics primitive"
      ]
     },
     "metadata": {},
     "output_type": "display_data"
    }
   ],
   "source": [
    "P = plot(eps, 0, Ts*0.8)\n",
    "\n",
    "P.axes_labels([\"$t$\", r\"$\\varepsilon(t)$\"])\n",
    "P.show()"
   ]
  },
  {
   "cell_type": "markdown",
   "metadata": {
    "collapsed": true
   },
   "source": [
    "## Using `linearize`"
   ]
  },
  {
   "cell_type": "markdown",
   "metadata": {
    "collapsed": true
   },
   "source": [
    "We can as well use the `linearize` function which does the job of computing Carleman linearization to order $N$ and building the quadratic reduction. \n",
    "\n",
    "Here is an example:"
   ]
  },
  {
   "cell_type": "code",
   "execution_count": 8,
   "metadata": {
    "collapsed": true
   },
   "outputs": [],
   "source": [
    "# order\n",
    "N = 4\n",
    "\n",
    "# initial condition, x(0) = x0\n",
    "x0 = [0.5, 0.5]\n",
    "\n",
    "# set model filename, it should be in the working folder of the calling script\n",
    "model_filename = 'vanderpol.sage'\n",
    "\n",
    "# set target filename\n",
    "target_filename = 'vanderpol_N_4.mat'"
   ]
  },
  {
   "cell_type": "code",
   "execution_count": 9,
   "metadata": {
    "collapsed": false
   },
   "outputs": [
    {
     "name": "stdout",
     "output_type": "stream",
     "text": [
      "Obtaining the canonical representation... done\n",
      "Computing matrix BN... done\n",
      "Computing the quadratic reduction... done\n",
      "Computing the characteristics of the model... done\n",
      "Exporting to  vanderpol_N_4.mat ... done\n"
     ]
    }
   ],
   "source": [
    "from carlin.transformation import linearize\n",
    "\n",
    "linearize(model_filename, target_filename, N, x0)"
   ]
  },
  {
   "cell_type": "markdown",
   "metadata": {},
   "source": [
    "This produces the file `vanderpol_N_4.mat`, which can be opened in Sage with `loadmat`, or in other platforms eg. in MATLAB with the `load(..)` command."
   ]
  }
 ],
 "metadata": {
  "kernelspec": {
   "display_name": "SageMath 7.5.1",
   "language": "",
   "name": "sagemath"
  },
  "language_info": {
   "codemirror_mode": {
    "name": "ipython",
    "version": 2
   },
   "file_extension": ".py",
   "mimetype": "text/x-python",
   "name": "python",
   "nbconvert_exporter": "python",
   "pygments_lexer": "ipython2",
   "version": "2.7.13"
  }
 },
 "nbformat": 4,
 "nbformat_minor": 0
}

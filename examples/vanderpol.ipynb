{
 "cells": [
  {
   "cell_type": "markdown",
   "metadata": {
    "deletable": true,
    "editable": true
   },
   "source": [
    "**Objetive.** In this tutorial we illustrate the use of the package `carlin`. As running example we take the well-known [Van der Pol oscillator](https://es.wikipedia.org/wiki/Oscilador_de_van_der_Pol). \n",
    "\n",
    "CONTENTS:\n",
    "\n",
    "- [Loading a model.](#Loading-the-model)\n",
    "- [Computing the linearization](#Computing-the-linearization) and exporting to a .MAT file.\n",
    "- [Computing the error term](#Computing-the-error-term) and plotting.\n",
    "- [Using linearize](#Using-linearize). If you are just interested in obtaining the linearization, the function `linearize` presented in this section is probably enough.\n",
    "- [Integration](#Integration) of the model ODE's, and plots in state-space. \n",
    "- [Integration of the linearized model](#Integration-of-the-linearized-model), plots and comparison to the nonlinear model."
   ]
  },
  {
   "cell_type": "markdown",
   "metadata": {
    "deletable": true,
    "editable": true
   },
   "source": [
    "## Loading the model"
   ]
  },
  {
   "cell_type": "markdown",
   "metadata": {
    "deletable": true,
    "editable": true
   },
   "source": [
    "To read a model from a text file, we use the function `load_model`. The output is a list: \n",
    "- $f$: vector field\n",
    "- $n$: dimension of the state-space\n",
    "- $k$: order of the system"
   ]
  },
  {
   "cell_type": "markdown",
   "metadata": {
    "deletable": true,
    "editable": true
   },
   "source": [
    "The example model `vanderpol.sage` reads as follows:\n",
    "\n",
    "```python\n",
    "# Van der pol oscillator\n",
    "# ======================\n",
    "\n",
    "# dimension of state-space\n",
    "n=2\n",
    "\n",
    "# define the vector of symbolic variables\n",
    "x = polygens(QQ, ['x'+str(1+i) for i in range(n)])\n",
    "\n",
    "# vector field (n-dimensional)\n",
    "f = [None] * n\n",
    "\n",
    "f[0] = x[1]\n",
    "f[1] = x[1] - x[0]^2*x[1] - x[0]\n",
    "```"
   ]
  },
  {
   "cell_type": "code",
   "execution_count": 1,
   "metadata": {
    "collapsed": true,
    "deletable": true,
    "editable": true
   },
   "outputs": [],
   "source": [
    "%display typeset"
   ]
  },
  {
   "cell_type": "code",
   "execution_count": 2,
   "metadata": {
    "collapsed": false,
    "deletable": true,
    "editable": true
   },
   "outputs": [
    {
     "data": {
      "text/html": [
       "<html><script type=\"math/tex; mode=display\">\\newcommand{\\Bold}[1]{\\mathbf{#1}}\\left(\\left[x_{2}, - x_{1}^{2} x_{2} -  x_{1} + x_{2}\\right], 2, 3\\right)</script></html>"
      ],
      "text/plain": [
       "([x2, -x1^2*x2 - x1 + x2], 2, 3)"
      ]
     },
     "execution_count": 2,
     "metadata": {},
     "output_type": "execute_result"
    }
   ],
   "source": [
    "from carlin.io import load_model \n",
    "\n",
    "[f, n, k] = load_model('vanderpol.sage')\n",
    "f, n, k"
   ]
  },
  {
   "cell_type": "markdown",
   "metadata": {
    "deletable": true,
    "editable": true
   },
   "source": [
    "## Computing the linearization\n",
    "\n",
    "We can compute the linearization for each integer order $N$ using the function `truncated_matrix`."
   ]
  },
  {
   "cell_type": "code",
   "execution_count": 8,
   "metadata": {
    "collapsed": true,
    "deletable": true,
    "editable": true
   },
   "outputs": [],
   "source": [
    "from carlin.transformation import truncated_matrix\n",
    "\n",
    "N = 2\n",
    "AN = truncated_matrix(N, 'vanderpol.sage')"
   ]
  },
  {
   "cell_type": "markdown",
   "metadata": {
    "deletable": true,
    "editable": true
   },
   "source": [
    "Notice that $A_N$ is a *sparse* matrix:"
   ]
  },
  {
   "cell_type": "code",
   "execution_count": 9,
   "metadata": {
    "collapsed": false,
    "deletable": true,
    "editable": true
   },
   "outputs": [
    {
     "data": {
      "text/html": [
       "<html><script type=\"math/tex; mode=display\">\\newcommand{\\Bold}[1]{\\mathbf{#1}}\\verb|<class|\\phantom{\\verb!x!}\\verb|'scipy.sparse.coo.coo_matrix'>|</script></html>"
      ],
      "text/plain": [
       "<class 'scipy.sparse.coo.coo_matrix'>"
      ]
     },
     "execution_count": 9,
     "metadata": {},
     "output_type": "execute_result"
    }
   ],
   "source": [
    "type(AN)"
   ]
  },
  {
   "cell_type": "markdown",
   "metadata": {
    "deletable": true,
    "editable": true
   },
   "source": [
    "The `coo` tag says that it is internally represented as a list of tuples of coordiantes of non-zero values. Indeed, if you try to print `BN`, it will return a long dictionary of `(tuples, values)`.\n",
    "\n",
    "In general, the matrices in Carleman linearization are very sparse, because they arise as a recursion of tensor products with the identity and the canonical description of the system."
   ]
  },
  {
   "cell_type": "markdown",
   "metadata": {
    "deletable": true,
    "editable": true
   },
   "source": [
    "If we want to transform it into a usual matrix (so called dense matrices), we can use the `toarray()` method. This is the analogue of MATLAB's `full(..)` function."
   ]
  },
  {
   "cell_type": "code",
   "execution_count": 10,
   "metadata": {
    "collapsed": false,
    "deletable": true,
    "editable": true
   },
   "outputs": [
    {
     "data": {
      "text/html": [
       "<html><script type=\"math/tex; mode=display\">\\newcommand{\\Bold}[1]{\\mathbf{#1}}\\left(\\begin{array}{rrrrrr}\n",
       "0.0 & 1.0 & 0.0 & 0.0 & 0.0 & 0.0 \\\\\n",
       "-1.0 & 1.0 & 0.0 & 0.0 & 0.0 & 0.0 \\\\\n",
       "0.0 & 0.0 & 0.0 & 1.0 & 1.0 & 0.0 \\\\\n",
       "0.0 & 0.0 & -1.0 & 1.0 & 0.0 & 1.0 \\\\\n",
       "0.0 & 0.0 & -1.0 & 0.0 & 1.0 & 1.0 \\\\\n",
       "0.0 & 0.0 & 0.0 & -1.0 & -1.0 & 2.0\n",
       "\\end{array}\\right)</script></html>"
      ],
      "text/plain": [
       "[ 0.0  1.0  0.0  0.0  0.0  0.0]\n",
       "[-1.0  1.0  0.0  0.0  0.0  0.0]\n",
       "[ 0.0  0.0  0.0  1.0  1.0  0.0]\n",
       "[ 0.0  0.0 -1.0  1.0  0.0  1.0]\n",
       "[ 0.0  0.0 -1.0  0.0  1.0  1.0]\n",
       "[ 0.0  0.0  0.0 -1.0 -1.0  2.0]"
      ]
     },
     "execution_count": 10,
     "metadata": {},
     "output_type": "execute_result"
    }
   ],
   "source": [
    "matrix(AN.toarray())    # the matrix(..) transforms it into a sage matrix (optional)"
   ]
  },
  {
   "cell_type": "markdown",
   "metadata": {
    "deletable": true,
    "editable": true
   },
   "source": [
    "To export the linearization to an external MAT file, we can use the function `savemat`. Notice that other objects (possibly of different types) can be saved in the same MAT file, which will store them as a cell array. "
   ]
  },
  {
   "cell_type": "code",
   "execution_count": 11,
   "metadata": {
    "collapsed": false,
    "deletable": true,
    "editable": true
   },
   "outputs": [],
   "source": [
    "import scipy\n",
    "from scipy.io import savemat\n",
    "\n",
    "savemat('vanderpol.mat', {'model':'vanderpol', 'N':N, 'AN':AN})"
   ]
  },
  {
   "cell_type": "markdown",
   "metadata": {
    "deletable": true,
    "editable": true
   },
   "source": [
    "This will generate the file `vanderpol.mat` in the working directory."
   ]
  },
  {
   "cell_type": "markdown",
   "metadata": {
    "deletable": true,
    "editable": true
   },
   "source": [
    "## Computing the error term"
   ]
  },
  {
   "cell_type": "markdown",
   "metadata": {
    "deletable": true,
    "editable": true
   },
   "source": [
    "The error term is computed next. The interpretation is the following. Consider the inputs are the truncation order $N$, and an initial condition $x_0 \\in \\mathbb{R}^n$. The output is a function $\\varepsilon(t)$ such that:\n",
    "$$\n",
    "x(t) \\in \\hat{x}(t) \\oplus \\mathcal{E}(t) \\mathcal{B}^n_\\infty, \\qquad t \\in I.\n",
    "$$\n",
    "The function $\\varepsilon(t)$ has domain $[0,T^*] \\subset \\mathbb{R}^+$. The convergence radius $T^*$ is also given as an output. Here $x(t)$ is the exact solution of the original system, and $\\hat{x}(t)$ is the solution of the linear system\n",
    "$$\n",
    "\\hat{x}'(t) = A_N \\hat{x}(t),\\qquad t \\in I.\n",
    "$$\n",
    "The quantity $\\mathcal{B}^n_\\infty$ represents the unit ball in the $n$-dimensional space corresponding to the supremum norm.\n",
    "\n",
    "The error function is\n",
    "$$\n",
    "\\mathcal{E}(t) = \\dfrac{||\\tilde{x}_0|| e^{||\\tilde{F}_1||t}}{(1+\\beta_0) - \\beta_0 e^{||\\tilde{F}_1||t}}\\left[ \\beta_0 (e^{||\\tilde{F}_1|| t} - 1 )\\right]^N.\n",
    "$$"
   ]
  },
  {
   "cell_type": "markdown",
   "metadata": {
    "deletable": true,
    "editable": true
   },
   "source": [
    "As an example, below we compute the error for the truncation order $N=4$."
   ]
  },
  {
   "cell_type": "code",
   "execution_count": 12,
   "metadata": {
    "collapsed": false,
    "deletable": true,
    "editable": true
   },
   "outputs": [],
   "source": [
    "from carlin.transformation import error_function\n",
    "\n",
    "N=4\n",
    "x0 = [1, 1]\n",
    "\n",
    "[Ts, eps] = error_function('vanderpol.sage', N, x0)"
   ]
  },
  {
   "cell_type": "markdown",
   "metadata": {
    "collapsed": true,
    "deletable": true,
    "editable": true
   },
   "source": [
    "Let's check the convergence radius for the $\\varepsilon(t)$ function:"
   ]
  },
  {
   "cell_type": "code",
   "execution_count": 7,
   "metadata": {
    "collapsed": false,
    "deletable": true,
    "editable": true
   },
   "outputs": [
    {
     "data": {
      "text/plain": [
       "0.27465307216702745"
      ]
     },
     "execution_count": 7,
     "metadata": {},
     "output_type": "execute_result"
    }
   ],
   "source": [
    "Ts"
   ]
  },
  {
   "cell_type": "markdown",
   "metadata": {
    "collapsed": true,
    "deletable": true,
    "editable": true
   },
   "source": [
    "The function $\\varepsilon(t)$ is *increasing*, so $\\varepsilon(t) \\leq \\varepsilon(T)$. The formula is:"
   ]
  },
  {
   "cell_type": "code",
   "execution_count": 8,
   "metadata": {
    "collapsed": false,
    "deletable": true,
    "editable": true
   },
   "outputs": [
    {
     "data": {
      "text/plain": [
       "1.0*(0.5*e^(4.0*t) - 0.5)^4*e^(4.0*t)/(-0.5*e^(4.0*t) + 1.5)"
      ]
     },
     "execution_count": 8,
     "metadata": {},
     "output_type": "execute_result"
    }
   ],
   "source": [
    "eps"
   ]
  },
  {
   "cell_type": "code",
   "execution_count": 9,
   "metadata": {
    "collapsed": false,
    "deletable": true,
    "editable": true
   },
   "outputs": [
    {
     "name": "stderr",
     "output_type": "stream",
     "text": [
      "/Users/forets/Tools/sage-master/local/lib/python2.7/site-packages/matplotlib/font_manager.py:273: UserWarning: Matplotlib is building the font cache using fc-list. This may take a moment.\n",
      "  warnings.warn('Matplotlib is building the font cache using fc-list. This may take a moment.')\n"
     ]
    },
    {
     "data": {
      "image/png": "[encoded data removed]",
      "text/plain": [
       "Graphics object consisting of 1 graphics primitive"
      ]
     },
     "metadata": {},
     "output_type": "display_data"
    }
   ],
   "source": [
    "P = plot(eps, 0, Ts*0.8)\n",
    "\n",
    "P.axes_labels([\"$t$\", r\"$\\varepsilon(t)$\"])\n",
    "P.show()"
   ]
  },
  {
   "cell_type": "markdown",
   "metadata": {
    "collapsed": true,
    "deletable": true,
    "editable": true
   },
   "source": [
    "## Using `linearize`"
   ]
  },
  {
   "cell_type": "markdown",
   "metadata": {
    "collapsed": true,
    "deletable": true,
    "editable": true
   },
   "source": [
    "We can as well use the `linearize` function which does the job of computing Carleman linearization to order $N$ and building the quadratic reduction. \n",
    "\n",
    "Here is an example:"
   ]
  },
  {
   "cell_type": "code",
   "execution_count": 10,
   "metadata": {
    "collapsed": true,
    "deletable": true,
    "editable": true
   },
   "outputs": [],
   "source": [
    "# order\n",
    "N = 4\n",
    "\n",
    "# initial condition, x(0) = x0\n",
    "x0 = [0.5, 0.5]\n",
    "\n",
    "# set model filename, it should be in the working folder of the calling script\n",
    "model_filename = 'vanderpol.sage'\n",
    "\n",
    "# set target filename\n",
    "target_filename = 'vanderpol_N_4.mat'"
   ]
  },
  {
   "cell_type": "code",
   "execution_count": 11,
   "metadata": {
    "collapsed": false,
    "deletable": true,
    "editable": true
   },
   "outputs": [
    {
     "name": "stdout",
     "output_type": "stream",
     "text": [
      "Obtaining the canonical representation... done\n",
      "Computing matrix BN... done\n",
      "Computing the quadratic reduction... done\n",
      "Computing the characteristics of the model... done\n",
      "Exporting to  vanderpol_N_4.mat ... done\n"
     ]
    }
   ],
   "source": [
    "from carlin.transformation import linearize\n",
    "\n",
    "linearize(model_filename, target_filename, N, x0)"
   ]
  },
  {
   "cell_type": "markdown",
   "metadata": {
    "deletable": true,
    "editable": true
   },
   "source": [
    "This produces the file `vanderpol_N_4.mat`, which can be opened in Sage with `loadmat`, or in other platforms eg. in MATLAB with the `load(..)` command."
   ]
  },
  {
   "cell_type": "markdown",
   "metadata": {},
   "source": [
    "## Integration \n",
    "\n",
    "Now, we compute the numerical solution of the ODE, and compare to the solution obtained by the linearized system. "
   ]
  },
  {
   "cell_type": "code",
   "execution_count": 12,
   "metadata": {
    "collapsed": false
   },
   "outputs": [
    {
     "data": {
      "text/plain": [
       "(x1, x2)"
      ]
     },
     "execution_count": 12,
     "metadata": {},
     "output_type": "execute_result"
    }
   ],
   "source": [
    "# symbolic state vector\n",
    "x = polygens(QQ, ['x' + str(i) for i in range(1, n+1)])\n",
    "x"
   ]
  },
  {
   "cell_type": "markdown",
   "metadata": {},
   "source": [
    "The `ode_solver` object allows to register the parameters and the definition of the system that we want to solve."
   ]
  },
  {
   "cell_type": "code",
   "execution_count": 60,
   "metadata": {
    "collapsed": true
   },
   "outputs": [],
   "source": [
    "S = ode_solver()"
   ]
  },
  {
   "cell_type": "code",
   "execution_count": 61,
   "metadata": {
    "collapsed": false
   },
   "outputs": [
    {
     "data": {
      "text/plain": [
       "<class 'sage.gsl.ode.ode_solver'>"
      ]
     },
     "execution_count": 61,
     "metadata": {},
     "output_type": "execute_result"
    }
   ],
   "source": [
    "type(S)"
   ]
  },
  {
   "cell_type": "markdown",
   "metadata": {},
   "source": [
    "The first task is to attach an ODE to the solver:"
   ]
  },
  {
   "cell_type": "code",
   "execution_count": 89,
   "metadata": {
    "collapsed": true
   },
   "outputs": [],
   "source": [
    "def f_1(t, x, params):\n",
    "    return [x[1], -x[0]^2*x[1] - x[0] + x[1]]\n",
    "\n",
    "S.function = f_1 "
   ]
  },
  {
   "cell_type": "markdown",
   "metadata": {},
   "source": [
    "Some algorithms of GSL need to know additionally the Jacobian of the system, in the form `(i,j)`, these corresponding to `dfi/dyj` and last with the last row being `dfi/dt`."
   ]
  },
  {
   "cell_type": "code",
   "execution_count": 142,
   "metadata": {
    "collapsed": true
   },
   "outputs": [],
   "source": [
    "def j_1(t, x, params):\n",
    "    \n",
    "    # jacobian\n",
    "    dfi_dyj = [[f[i].derivative(x[j]) for j in range(n)] for i in range(n)]\n",
    "\n",
    "    # we consider autonomous systems\n",
    "    dfi_dt = [0]*n    \n",
    "    \n",
    "    return dfi_dyj + dfi_dt\n",
    "\n",
    "S.jacobian = j_1"
   ]
  },
  {
   "cell_type": "markdown",
   "metadata": {},
   "source": [
    "Finally, we define some model parameters:"
   ]
  },
  {
   "cell_type": "code",
   "execution_count": 143,
   "metadata": {
    "collapsed": true
   },
   "outputs": [],
   "source": [
    "# initial condition\n",
    "x0 = [0.5, 0.5]\n",
    "\n",
    "# initial time\n",
    "t0 = 0\n",
    "\n",
    "# final time\n",
    "T = 12"
   ]
  },
  {
   "cell_type": "markdown",
   "metadata": {},
   "source": [
    "To perform the **numerical integration**, one has to set:\n",
    "\n",
    "- the algorithm,\n",
    "- a time interval over which the solution is calculated, and\n",
    "- the number of steps that we want, which determines the discretization step $h$."
   ]
  },
  {
   "cell_type": "code",
   "execution_count": 144,
   "metadata": {
    "collapsed": true
   },
   "outputs": [],
   "source": [
    "# integration algorithm (valid options are: rk8pd, rk4, gear1)\n",
    "S.algorithm = \"rk4\"\n",
    "\n",
    "# initial time of simulation\n",
    "t0ini = t0\n",
    "\n",
    "# final time of simulation\n",
    "Tfinal = T\n",
    "\n",
    "# number of time samples\n",
    "NPOINTS = 500"
   ]
  },
  {
   "cell_type": "code",
   "execution_count": 163,
   "metadata": {
    "collapsed": false
   },
   "outputs": [],
   "source": [
    "S.ode_solve(y_0 = x0, t_span = [t0ini,Tfinal], params=[0], num_points=NPOINTS)"
   ]
  },
  {
   "cell_type": "markdown",
   "metadata": {},
   "source": [
    "#### Extracting the solution\n",
    "\n",
    "The solution of an `ode_solver` object is a list of tuples, each tuple containing a time print and a tuple with the numerical values. \n",
    "\n",
    "For instance:"
   ]
  },
  {
   "cell_type": "code",
   "execution_count": 146,
   "metadata": {
    "collapsed": false
   },
   "outputs": [
    {
     "data": {
      "text/plain": [
       "(0.8880000000000005, [0.7949585838877758, 0.06510910497463931])"
      ]
     },
     "execution_count": 146,
     "metadata": {},
     "output_type": "execute_result"
    }
   ],
   "source": [
    "S.solution[37]"
   ]
  },
  {
   "cell_type": "markdown",
   "metadata": {},
   "source": [
    "We interpolate the solution, generating a list of tuples `(t, x_{i,t})` for each coordinate `i`. This is stored in the callable function `x_t` below."
   ]
  },
  {
   "cell_type": "code",
   "execution_count": 147,
   "metadata": {
    "collapsed": true
   },
   "outputs": [],
   "source": [
    "x_t = lambda i : S.interpolate_solution(i)"
   ]
  },
  {
   "cell_type": "markdown",
   "metadata": {},
   "source": [
    "For example, we can check the number of time samples of the solution:"
   ]
  },
  {
   "cell_type": "code",
   "execution_count": 148,
   "metadata": {
    "collapsed": false
   },
   "outputs": [
    {
     "data": {
      "text/plain": [
       "(501, 501)"
      ]
     },
     "execution_count": 148,
     "metadata": {},
     "output_type": "execute_result"
    }
   ],
   "source": [
    "len(x_t(0)), len(x_t(1))"
   ]
  },
  {
   "cell_type": "markdown",
   "metadata": {},
   "source": [
    "We can now plot the **position vs. time** solution:"
   ]
  },
  {
   "cell_type": "code",
   "execution_count": 149,
   "metadata": {
    "collapsed": false
   },
   "outputs": [
    {
     "data": {
      "image/png": "[encoded data removed]",
      "text/plain": [
       "Graphics object consisting of 1 graphics primitive"
      ]
     },
     "metadata": {},
     "output_type": "display_data"
    }
   ],
   "source": [
    "PosvsTime = plot(x_t(0), t0ini, Tfinal, axes_labels = ['$t$', '$x_1(t)$'], gridlines=True)\n",
    "PosvsTime.legend_label = '($S$)'\n",
    "PosvsTime.legend_color = 'black'\n",
    "\n",
    "PosvsTime.show()"
   ]
  },
  {
   "cell_type": "markdown",
   "metadata": {},
   "source": [
    "We can plot $x_2(t)$ as well:"
   ]
  },
  {
   "cell_type": "code",
   "execution_count": 150,
   "metadata": {
    "collapsed": false
   },
   "outputs": [
    {
     "data": {
      "image/png": "[encoded data removed]",
      "text/plain": [
       "Graphics object consisting of 1 graphics primitive"
      ]
     },
     "metadata": {},
     "output_type": "display_data"
    }
   ],
   "source": [
    "PosvsTime = plot(x_t(1), t0ini, Tfinal, axes_labels = ['$t$', '$x_2(t)$'], gridlines=True)\n",
    "PosvsTime.legend_label = '($S$)'\n",
    "PosvsTime.legend_color = 'black'\n",
    "\n",
    "PosvsTime.show()"
   ]
  },
  {
   "cell_type": "markdown",
   "metadata": {},
   "source": [
    "To plot the solution in **state space**:"
   ]
  },
  {
   "cell_type": "code",
   "execution_count": 166,
   "metadata": {
    "collapsed": false
   },
   "outputs": [
    {
     "data": {
      "image/png": "[encoded data removed]",
      "text/plain": [
       "Graphics object consisting of 2 graphics primitives"
      ]
     },
     "metadata": {},
     "output_type": "display_data"
    }
   ],
   "source": [
    "ssplot = Graphics()\n",
    "\n",
    "# initial condition\n",
    "ssplot += point(x0, marker='x', color='red')\n",
    "\n",
    "# solution of the ODE in phase space\n",
    "x1x2 = [S.solution[i][1] for i in range(len(S.solution))]\n",
    "ssplot += list_plot(x1x2, plotjoined=True)\n",
    "\n",
    "\n",
    "ssplot.show(gridlines=True, axes_labels = ['$x_1$', '$x_2$'])"
   ]
  },
  {
   "cell_type": "code",
   "execution_count": 171,
   "metadata": {
    "collapsed": true
   },
   "outputs": [],
   "source": [
    "ssplot.save(\"ssplot.png\", gridlines=True)"
   ]
  },
  {
   "cell_type": "markdown",
   "metadata": {},
   "source": [
    "## Integration of the linearized model"
   ]
  },
  {
   "cell_type": "code",
   "execution_count": 172,
   "metadata": {
    "collapsed": false
   },
   "outputs": [
    {
     "data": {
      "text/plain": [
       "(6, 6)"
      ]
     },
     "execution_count": 172,
     "metadata": {},
     "output_type": "execute_result"
    }
   ],
   "source": [
    "from carlin.transformation import truncated_matrix, kron_power\n",
    "\n",
    "# truncation order\n",
    "N = 2\n",
    "\n",
    "AN = truncated_matrix(N, 'vanderpol.sage')\n",
    "\n",
    "# cast into Sage dense matrix\n",
    "AN = matrix(AN.toarray())\n",
    "\n",
    "AN.nrows(), AN.ncols()"
   ]
  },
  {
   "cell_type": "code",
   "execution_count": 134,
   "metadata": {
    "collapsed": false
   },
   "outputs": [
    {
     "data": {
      "text/plain": [
       "[ 0.0  1.0  0.0  0.0  0.0  0.0]\n",
       "[-1.0  1.0  0.0  0.0  0.0  0.0]\n",
       "[ 0.0  0.0  0.0  1.0  1.0  0.0]\n",
       "[ 0.0  0.0 -1.0  1.0  0.0  1.0]\n",
       "[ 0.0  0.0 -1.0  0.0  1.0  1.0]\n",
       "[ 0.0  0.0  0.0 -1.0 -1.0  2.0]"
      ]
     },
     "execution_count": 134,
     "metadata": {},
     "output_type": "execute_result"
    }
   ],
   "source": [
    "AN"
   ]
  },
  {
   "cell_type": "code",
   "execution_count": 135,
   "metadata": {
    "collapsed": false
   },
   "outputs": [
    {
     "data": {
      "text/plain": [
       "[0.500000000000000, 0.500000000000000, 0.500000000000000, 0.500000000000000]"
      ]
     },
     "execution_count": 135,
     "metadata": {},
     "output_type": "execute_result"
    }
   ],
   "source": [
    "kron_power(x0, 1) + kron_power(x0, 1)"
   ]
  },
  {
   "cell_type": "code",
   "execution_count": 136,
   "metadata": {
    "collapsed": false
   },
   "outputs": [
    {
     "data": {
      "text/plain": [
       "[0.500000000000000,\n",
       " 0.500000000000000,\n",
       " 0.250000000000000,\n",
       " 0.250000000000000,\n",
       " 0.250000000000000,\n",
       " 0.250000000000000]"
      ]
     },
     "execution_count": 136,
     "metadata": {},
     "output_type": "execute_result"
    }
   ],
   "source": [
    "y0 = kron_power(x0, 1)\n",
    "for i in [2..N]:\n",
    "    y0 += kron_power(x0, i)\n",
    "\n",
    "y0"
   ]
  },
  {
   "cell_type": "markdown",
   "metadata": {},
   "source": [
    "We now simulate $\\hat{y}(t) = e^{A_N t} \\hat{y}_0$. For $x_0$ given the initial condition in the lifted space can be found by using the method"
   ]
  },
  {
   "cell_type": "code",
   "execution_count": null,
   "metadata": {
    "collapsed": true
   },
   "outputs": [],
   "source": [
    "# initial condition\n",
    "x0 = [0.5, 0.5]\n",
    "\n",
    "from carlin.transformation import kron_power\n",
    "y0 = [kron_power(x0, 1)\n",
    "\n",
    "# initial time\n",
    "t0 = 0\n",
    "\n",
    "# final time\n",
    "T = 1\n",
    "\n",
    "# number of computation points\n",
    "NPOINTS = 100\n",
    "\n",
    "from numpy import linspace\n",
    "t_dom = linspace(t0, T, num=NPOINTS)"
   ]
  },
  {
   "cell_type": "code",
   "execution_count": null,
   "metadata": {
    "collapsed": true
   },
   "outputs": [],
   "source": [
    "sol = [exp(AN*ti)*y0 for ti in t_dom]"
   ]
  },
  {
   "cell_type": "code",
   "execution_count": null,
   "metadata": {
    "collapsed": true
   },
   "outputs": [],
   "source": [
    "[exp(AN * tk) * y0 for tk in t_dom]"
   ]
  },
  {
   "cell_type": "code",
   "execution_count": null,
   "metadata": {
    "collapsed": true
   },
   "outputs": [],
   "source": [
    "linspace(t0, T, num=POINTS_MAX)"
   ]
  }
 ],
 "metadata": {
  "kernelspec": {
   "display_name": "SageMath 7.5.1",
   "language": "",
   "name": "sagemath"
  },
  "language_info": {
   "codemirror_mode": {
    "name": "ipython",
    "version": 2
   },
   "file_extension": ".py",
   "mimetype": "text/x-python",
   "name": "python",
   "nbconvert_exporter": "python",
   "pygments_lexer": "ipython2",
   "version": "2.7.13"
  }
 },
 "nbformat": 4,
 "nbformat_minor": 0
}

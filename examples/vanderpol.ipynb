{
 "cells": [
  {
   "cell_type": "code",
   "execution_count": 3,
   "metadata": {
    "collapsed": true,
    "deletable": true,
    "editable": true
   },
   "outputs": [],
   "source": [
    "%display typeset"
   ]
  },
  {
   "cell_type": "markdown",
   "metadata": {
    "deletable": true,
    "editable": true
   },
   "source": [
    "We first define the Van der Pol equation, which depends on a parameter $\\mu$."
   ]
  },
  {
   "cell_type": "code",
   "execution_count": 1,
   "metadata": {
    "collapsed": false,
    "deletable": true,
    "editable": true
   },
   "outputs": [],
   "source": [
    "def vanderpol(mu, omega):\n",
    "    \"\"\"\n",
    "    The Van der Pol oscillator is a non-conservative system with non-linear damping.\n",
    "    \n",
    "    \n",
    "    For additional information see the :wiki:`Van_der_Pol_oscillator`.\n",
    "    \n",
    "    EXAMPLES:\n",
    "\n",
    "        sage: from carlin.library import vanderpol\n",
    "        sage: vanderpol(1, 1/2)\n",
    "        [xx, 2, 3]\n",
    "    \"\"\"\n",
    "    # dimension of state-space\n",
    "    n=2\n",
    "\n",
    "    # define the vector of symbolic variables\n",
    "    x = polygens(QQ, ['x'+str(i) for i in range(n)])\n",
    "\n",
    "    # vector field (n-dimensional)\n",
    "    f = [None] * n\n",
    "\n",
    "    f[0] = x[1]\n",
    "    f[1] = - omega**2 * x[0] + mu * (1 - x[0]**2) * x[1]\n",
    "\n",
    "    # order of the ODE\n",
    "    k = 3\n",
    "    \n",
    "    return f, n, k"
   ]
  },
  {
   "cell_type": "code",
   "execution_count": 2,
   "metadata": {
    "collapsed": false,
    "deletable": true,
    "editable": true
   },
   "outputs": [
    {
     "data": {
      "text/plain": [
       "([x1, -omega^2*x0 - (x0^2 - 1)*mu*x1], 2, 3)"
      ]
     },
     "execution_count": 2,
     "metadata": {},
     "output_type": "execute_result"
    }
   ],
   "source": [
    "vanderpol(SR('mu'), SR('omega'))"
   ]
  },
  {
   "cell_type": "markdown",
   "metadata": {
    "deletable": true,
    "editable": true
   },
   "source": [
    "We can compute the Carleman linearized ODE at order $N$, and a given numerical value of the parameter $\\mu$:"
   ]
  },
  {
   "cell_type": "code",
   "execution_count": 8,
   "metadata": {
    "collapsed": false,
    "deletable": true,
    "editable": true
   },
   "outputs": [],
   "source": [
    "from carlin.transformation import get_Fj_from_model, truncated_matrix, solve_linearized_ode\n",
    "\n",
    "# parameter in van der pol's equation\n",
    "mu = 0.8\n",
    "\n",
    "Fj = get_Fj_from_model(*vanderpol(mu))\n",
    "\n",
    "# truncation order\n",
    "N = 2\n",
    "\n",
    "AN = truncated_matrix(N, *Fj, input_format=\"Fj_matrices\")\n",
    "AN = matrix(AN.toarray())"
   ]
  },
  {
   "cell_type": "code",
   "execution_count": 15,
   "metadata": {
    "collapsed": true
   },
   "outputs": [],
   "source": [
    "# initial condition\n",
    "x0 = [0.2, 0]\n",
    "\n",
    "# initial time\n",
    "tini = 0\n",
    "\n",
    "# final time\n",
    "T = 5\n",
    "\n",
    "# number of computation points\n",
    "NPOINTS = 400\n",
    "    \n",
    "ans = solve_linearized_ode(AN, x0, N, tini, T, NPOINTS)"
   ]
  },
  {
   "cell_type": "code",
   "execution_count": 14,
   "metadata": {
    "collapsed": false
   },
   "outputs": [],
   "source": [
    "def solve_linearized_ode(AN, x0, N, tini, T, NPOINTS):\n",
    "\n",
    "    def initial_state_kron(x0, N):\n",
    "        from carlin.transformation import kron_power\n",
    "\n",
    "        y0 = kron_power(x0, 1)\n",
    "        for i in [2..N]:\n",
    "            y0 += kron_power(x0, i)\n",
    "        return vector(y0)\n",
    "\n",
    "    # transform to x0, x0^[2], ..., x0^[N]\n",
    "    y0 = initial_state_kron(x0, N)\n",
    "\n",
    "    # time domain\n",
    "    from numpy import linspace\n",
    "    t_dom = linspace(tini, T, num=NPOINTS)\n",
    "\n",
    "    # compute solution\n",
    "    sol = [exp(AN*ti)*y0 for ti in t_dom]\n",
    "\n",
    "    return sol"
   ]
  },
  {
   "cell_type": "code",
   "execution_count": 11,
   "metadata": {
    "collapsed": false
   },
   "outputs": [
    {
     "name": "stdout",
     "output_type": "stream",
     "text": [
      "CPU times: user 168 ms, sys: 2.44 ms, total: 170 ms\n",
      "Wall time: 172 ms\n"
     ]
    }
   ],
   "source": [
    "%%time\n",
    "\n",
    "# compute solution\n",
    "sol = [exp(AN*ti)*y0 for ti in t_dom]"
   ]
  },
  {
   "cell_type": "code",
   "execution_count": 12,
   "metadata": {
    "collapsed": true
   },
   "outputs": [],
   "source": [
    "sol_x1 = [sol[i][0] for i in range(NPOINTS)]\n",
    "sol_x2 = [sol[i][1] for i in range(NPOINTS)]"
   ]
  },
  {
   "cell_type": "code",
   "execution_count": 13,
   "metadata": {
    "collapsed": false
   },
   "outputs": [
    {
     "name": "stderr",
     "output_type": "stream",
     "text": [
      "/Users/forets/Tools/sage-master/local/lib/python2.7/site-packages/matplotlib/font_manager.py:273: UserWarning: Matplotlib is building the font cache using fc-list. This may take a moment.\n",
      "  warnings.warn('Matplotlib is building the font cache using fc-list. This may take a moment.')\n"
     ]
    },
    {
     "data": {
      "image/png": "[encoded data removed]",
      "text/plain": [
       "Graphics object consisting of 1 graphics primitive"
      ]
     },
     "metadata": {},
     "output_type": "display_data"
    }
   ],
   "source": [
    "Graphic2 = list_plot(zip(sol_x1, sol_x2), plotjoined=True, color='orange')\n",
    "Graphic2.show()"
   ]
  },
  {
   "cell_type": "code",
   "execution_count": null,
   "metadata": {
    "collapsed": true
   },
   "outputs": [],
   "source": []
  },
  {
   "cell_type": "code",
   "execution_count": 49,
   "metadata": {
    "collapsed": true,
    "deletable": true,
    "editable": true
   },
   "outputs": [],
   "source": [
    "def simulate(vanderpol, N, x0):\n",
    "    Graph = Graphics()\n",
    "    z = var('z')\n",
    "    Graph += plot(sin(z))\n",
    "    return Graph"
   ]
  },
  {
   "cell_type": "code",
   "execution_count": 50,
   "metadata": {
    "collapsed": false,
    "deletable": true,
    "editable": true
   },
   "outputs": [],
   "source": [
    "# order\n",
    "N = 4\n",
    "\n",
    "# initial point\n",
    "x0 = [0.01, 0]\n",
    "\n",
    "# solve\n",
    "S_carl = simulate(vanderpol, N, x0)"
   ]
  },
  {
   "cell_type": "code",
   "execution_count": 53,
   "metadata": {
    "collapsed": false,
    "deletable": true,
    "editable": true
   },
   "outputs": [
    {
     "data": {
      "image/png": "[encoded data removed]",
      "text/plain": [
       "Graphics object consisting of 1 graphics primitive"
      ]
     },
     "execution_count": 53,
     "metadata": {},
     "output_type": "execute_result"
    }
   ],
   "source": [
    "S_carl"
   ]
  },
  {
   "cell_type": "code",
   "execution_count": 52,
   "metadata": {
    "collapsed": false,
    "deletable": true,
    "editable": true
   },
   "outputs": [
    {
     "data": {
      "image/png": "[encoded data removed]",
      "text/plain": [
       "Graphics object consisting of 1 graphics primitive"
      ]
     },
     "metadata": {},
     "output_type": "display_data"
    }
   ],
   "source": [
    "S_carl.show(gridlines=True, axes_labels = ['$x_1$', '$x_2$'], xmin=4, xmax=5, ymin=2, ymax=7)"
   ]
  },
  {
   "cell_type": "code",
   "execution_count": null,
   "metadata": {
    "collapsed": true,
    "deletable": true,
    "editable": true
   },
   "outputs": [],
   "source": []
  },
  {
   "cell_type": "code",
   "execution_count": 81,
   "metadata": {
    "collapsed": false,
    "deletable": true,
    "editable": true
   },
   "outputs": [
    {
     "data": {
      "text/html": [
       "<html><script type=\"math/tex; mode=display\">\\newcommand{\\Bold}[1]{\\mathbf{#1}}4</script></html>"
      ],
      "text/plain": [
       "4"
      ]
     },
     "execution_count": 81,
     "metadata": {},
     "output_type": "execute_result"
    }
   ],
   "source": []
  },
  {
   "cell_type": "code",
   "execution_count": null,
   "metadata": {
    "collapsed": true,
    "deletable": true,
    "editable": true
   },
   "outputs": [],
   "source": []
  },
  {
   "cell_type": "code",
   "execution_count": null,
   "metadata": {
    "collapsed": true,
    "deletable": true,
    "editable": true
   },
   "outputs": [],
   "source": [
    "from carlin.transformation import truncated_matrix, kron_power\n",
    "\n",
    "# truncation order\n",
    "N = 2\n",
    "\n",
    "AN = truncated_matrix(N, 'vanderpol.sage')\n",
    "\n",
    "# cast into Sage dense matrix\n",
    "AN = matrix(AN.toarray())\n",
    "\n",
    "AN.nrows(), AN.ncols()"
   ]
  },
  {
   "cell_type": "code",
   "execution_count": null,
   "metadata": {
    "collapsed": true,
    "deletable": true,
    "editable": true
   },
   "outputs": [],
   "source": [
    "ssplot = Graphics()\n",
    "\n",
    "# initial condition\n",
    "ssplot += point(x0, marker='x', color='red')\n",
    "\n",
    "# solution of the ODE in phase space\n",
    "x1x2 = [S.solution[i][1] for i in range(len(S.solution))]\n",
    "ssplot += list_plot(x1x2, plotjoined=True)\n",
    "\n",
    "ssplot.show(gridlines=True, axes_labels = ['$x_1$', '$x_2$'])"
   ]
  },
  {
   "cell_type": "code",
   "execution_count": null,
   "metadata": {
    "collapsed": true,
    "deletable": true,
    "editable": true
   },
   "outputs": [],
   "source": []
  },
  {
   "cell_type": "code",
   "execution_count": 79,
   "metadata": {
    "collapsed": false,
    "deletable": true,
    "editable": true
   },
   "outputs": [],
   "source": [
    "class PolynomialODE(SageObject):\n",
    "    def __init__(self, equations=None):\n",
    "        \n",
    "        if equations is not None:\n",
    "            self.equations = f\n",
    "            ## stuff\n",
    "            \n",
    "    def show():\n",
    "        \"\"\"\n",
    "        LaTeX representation of the polynomial system of ODE's.\n",
    "        \"\"\"\n",
    "        return 1\n",
    "\n",
    "    def solve():\n",
    "        \"\"\"\n",
    "        xyz\n",
    "        \"\"\"\n",
    "    \n",
    "    def carleman_linearization(N, x0):\n",
    "        \"\"\"\n",
    "        Carleman linearization\n",
    "        \"\"\""
   ]
  },
  {
   "cell_type": "code",
   "execution_count": 80,
   "metadata": {
    "collapsed": false,
    "deletable": true,
    "editable": true
   },
   "outputs": [
    {
     "data": {
      "text/html": [
       "<html><script type=\"math/tex; mode=display\">\\newcommand{\\Bold}[1]{\\mathbf{#1}}\\verb|<class|\\phantom{\\verb!x!}\\verb|'__main__.PolynomialODE'>|</script></html>"
      ],
      "text/plain": [
       "<class '__main__.PolynomialODE'>"
      ]
     },
     "execution_count": 80,
     "metadata": {},
     "output_type": "execute_result"
    }
   ],
   "source": [
    "PolynomialODE()"
   ]
  },
  {
   "cell_type": "code",
   "execution_count": null,
   "metadata": {
    "collapsed": true,
    "deletable": true,
    "editable": true
   },
   "outputs": [],
   "source": []
  }
 ],
 "metadata": {
  "kernelspec": {
   "display_name": "SageMath 7.6",
   "language": "",
   "name": "sagemath"
  },
  "language_info": {
   "codemirror_mode": {
    "name": "ipython",
    "version": 2
   },
   "file_extension": ".py",
   "mimetype": "text/x-python",
   "name": "python",
   "nbconvert_exporter": "python",
   "pygments_lexer": "ipython2",
   "version": "2.7.13"
  }
 },
 "nbformat": 4,
 "nbformat_minor": 2
}

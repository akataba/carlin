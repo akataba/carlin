{
 "cells": [
  {
   "cell_type": "markdown",
   "metadata": {
    "deletable": true,
    "editable": true
   },
   "source": [
    "some links to sparse methods in NumPy: \n",
    "\n",
    "https://github.com/scipy/scipy/issues/3343\n",
    "https://docs.scipy.org/doc/scipy-0.14.0/reference/generated/scipy.sparse.csr_matrix.eliminate_zeros.html\n",
    "https://github.com/scipy/scipy/issues/7531\n"
   ]
  },
  {
   "cell_type": "markdown",
   "metadata": {
    "deletable": true,
    "editable": true
   },
   "source": [
    "#### Time-triggered algorithm -- proof of concept with different models"
   ]
  },
  {
   "cell_type": "code",
   "execution_count": 1,
   "metadata": {
    "collapsed": false,
    "deletable": true,
    "editable": true
   },
   "outputs": [],
   "source": [
    "%display typeset"
   ]
  },
  {
   "cell_type": "code",
   "execution_count": 2,
   "metadata": {
    "collapsed": false,
    "deletable": true,
    "editable": true
   },
   "outputs": [],
   "source": [
    "from carlin.polynomial_ode import PolynomialODE\n",
    "\n",
    "# ========================\n",
    "# Lotka-Volterra model\n",
    "# ========================\n",
    "x = polygens(QQ, ['x0', 'x1'])"
   ]
  },
  {
   "cell_type": "code",
   "execution_count": 3,
   "metadata": {
    "collapsed": true,
    "deletable": true,
    "editable": true
   },
   "outputs": [],
   "source": [
    "# parameters from Nikos\n",
    "alpha=2\n",
    "beta=1\n",
    "delta=1;\n",
    "gamma=0.25;"
   ]
  },
  {
   "cell_type": "code",
   "execution_count": 4,
   "metadata": {
    "collapsed": true,
    "deletable": true,
    "editable": true
   },
   "outputs": [],
   "source": [
    "# parameters from A. Rocca (cf. wikipedia)\n",
    "# [0.9, 1.1] x [0.9, 1.1]\n",
    "# T = 16 for one loop\n",
    "alpha=2./3  # 2;\n",
    "beta=4/3.  #1;\n",
    "delta=1\n",
    "gamma=1. # 0.25;"
   ]
  },
  {
   "cell_type": "code",
   "execution_count": 5,
   "metadata": {
    "collapsed": true,
    "deletable": true,
    "editable": true
   },
   "outputs": [],
   "source": [
    "# parameters from the thesis of M. A. Ben Sassi\n",
    "# [49, 51] x [14, 16]\n",
    "# T = 0.3*700\n",
    "alpha=0.1\n",
    "beta=0.01\n",
    "delta=0.001\n",
    "gamma=0.05"
   ]
  },
  {
   "cell_type": "code",
   "execution_count": 3,
   "metadata": {
    "collapsed": true,
    "deletable": true,
    "editable": true
   },
   "outputs": [],
   "source": [
    "# parameters from Aachen\n",
    "# [4.8, 5.2] x [1.8, 2.2]\n",
    "# T = 5\n",
    "alpha=1.5\n",
    "beta=1.0\n",
    "gamma=3.0\n",
    "delta=1.0"
   ]
  },
  {
   "cell_type": "code",
   "execution_count": 4,
   "metadata": {
    "collapsed": false,
    "deletable": true,
    "editable": true
   },
   "outputs": [
    {
     "data": {
      "text/html": [
       "<html><script type=\"math/tex; mode=display\">\\newcommand{\\Bold}[1]{\\mathbf{#1}}\\left[-x_{0} x_{1} + 1.50000000000000 x_{0}, x_{0} x_{1} - 3.00000000000000 x_{1}\\right]</script></html>"
      ],
      "text/plain": [
       "[-x0*x1 + 1.50000000000000*x0, x0*x1 - 3.00000000000000*x1]"
      ]
     },
     "execution_count": 4,
     "metadata": {},
     "output_type": "execute_result"
    }
   ],
   "source": [
    "# equation\n",
    "f = [alpha*x[0] - beta*x[0]*x[1], delta*x[0]*x[1]-gamma*x[1]]\n",
    "model = PolynomialODE(f, 2, 2)\n",
    "f"
   ]
  },
  {
   "cell_type": "code",
   "execution_count": 51,
   "metadata": {
    "collapsed": false,
    "deletable": true,
    "editable": true
   },
   "outputs": [],
   "source": [
    "# Truncation\n",
    "from carlin.transformation import truncated_matrix, get_Fj_from_model\n",
    "\n",
    "Fj = get_Fj_from_model(model.funcs(), model.dim(), model.degree())\n",
    "AN = lambda N : truncated_matrix(N, *Fj, input_format=\"Fj_matrices\")\n",
    "AN3 = AN(3)"
   ]
  },
  {
   "cell_type": "code",
   "execution_count": 48,
   "metadata": {
    "collapsed": false,
    "deletable": true,
    "editable": true
   },
   "outputs": [
    {
     "ename": "TypeError",
     "evalue": "unbound method eliminate_zeros() must be called with csr_matrix instance as first argument (got coo_matrix instance instead)",
     "output_type": "error",
     "traceback": [
      "\u001b[0;31m---------------------------------------------------------------------------\u001b[0m",
      "\u001b[0;31mTypeError\u001b[0m                                 Traceback (most recent call last)",
      "\u001b[0;32m<ipython-input-48-b7df0adcf49e>\u001b[0m in \u001b[0;36m<module>\u001b[0;34m()\u001b[0m\n\u001b[1;32m      1\u001b[0m \u001b[0;32mfrom\u001b[0m \u001b[0mscipy\u001b[0m\u001b[0;34m.\u001b[0m\u001b[0msparse\u001b[0m \u001b[0;32mimport\u001b[0m \u001b[0mcsr_matrix\u001b[0m\u001b[0;34m\u001b[0m\u001b[0m\n\u001b[0;32m----> 2\u001b[0;31m \u001b[0mcsr_matrix\u001b[0m\u001b[0;34m.\u001b[0m\u001b[0meliminate_zeros\u001b[0m\u001b[0;34m(\u001b[0m\u001b[0mAN\u001b[0m\u001b[0;34m(\u001b[0m\u001b[0mInteger\u001b[0m\u001b[0;34m(\u001b[0m\u001b[0;36m3\u001b[0m\u001b[0;34m)\u001b[0m\u001b[0;34m)\u001b[0m\u001b[0;34m)\u001b[0m\u001b[0;34m\u001b[0m\u001b[0m\n\u001b[0m",
      "\u001b[0;31mTypeError\u001b[0m: unbound method eliminate_zeros() must be called with csr_matrix instance as first argument (got coo_matrix instance instead)"
     ]
    }
   ],
   "source": [
    "from scipy.sparse import csr_matrix\n",
    "\n",
    "csr_matrix.eliminate_zeros(AN(3))"
   ]
  },
  {
   "cell_type": "code",
   "execution_count": 74,
   "metadata": {
    "collapsed": false,
    "deletable": true,
    "editable": true
   },
   "outputs": [
    {
     "ename": "AttributeError",
     "evalue": "eliminate_zeros not found",
     "output_type": "error",
     "traceback": [
      "\u001b[0;31m---------------------------------------------------------------------------\u001b[0m",
      "\u001b[0;31mAttributeError\u001b[0m                            Traceback (most recent call last)",
      "\u001b[0;32m<ipython-input-74-041fc645d884>\u001b[0m in \u001b[0;36m<module>\u001b[0;34m()\u001b[0m\n\u001b[0;32m----> 1\u001b[0;31m \u001b[0mAN3\u001b[0m\u001b[0;34m.\u001b[0m\u001b[0meliminate_zeros\u001b[0m\u001b[0;34m(\u001b[0m\u001b[0;34m)\u001b[0m\u001b[0;34m\u001b[0m\u001b[0m\n\u001b[0m",
      "\u001b[0;32m/Users/forets/Tools/sage-master/local/lib/python2.7/site-packages/scipy/sparse/base.pyc\u001b[0m in \u001b[0;36m__getattr__\u001b[0;34m(self, attr)\u001b[0m\n\u001b[1;32m    523\u001b[0m             \u001b[0;32mreturn\u001b[0m \u001b[0mself\u001b[0m\u001b[0;34m.\u001b[0m\u001b[0mgetnnz\u001b[0m\u001b[0;34m(\u001b[0m\u001b[0;34m)\u001b[0m\u001b[0;34m\u001b[0m\u001b[0m\n\u001b[1;32m    524\u001b[0m         \u001b[0;32melse\u001b[0m\u001b[0;34m:\u001b[0m\u001b[0;34m\u001b[0m\u001b[0m\n\u001b[0;32m--> 525\u001b[0;31m             \u001b[0;32mraise\u001b[0m \u001b[0mAttributeError\u001b[0m\u001b[0;34m(\u001b[0m\u001b[0mattr\u001b[0m \u001b[0;34m+\u001b[0m \u001b[0;34m\" not found\"\u001b[0m\u001b[0;34m)\u001b[0m\u001b[0;34m\u001b[0m\u001b[0m\n\u001b[0m\u001b[1;32m    526\u001b[0m \u001b[0;34m\u001b[0m\u001b[0m\n\u001b[1;32m    527\u001b[0m     \u001b[0;32mdef\u001b[0m \u001b[0mtranspose\u001b[0m\u001b[0;34m(\u001b[0m\u001b[0mself\u001b[0m\u001b[0;34m)\u001b[0m\u001b[0;34m:\u001b[0m\u001b[0;34m\u001b[0m\u001b[0m\n",
      "\u001b[0;31mAttributeError\u001b[0m: eliminate_zeros not found"
     ]
    }
   ],
   "source": [
    "AN3.eliminate_zeros()"
   ]
  },
  {
   "cell_type": "code",
   "execution_count": 80,
   "metadata": {
    "collapsed": false,
    "deletable": true,
    "editable": true
   },
   "outputs": [
    {
     "data": {
      "text/html": [
       "<html><script type=\"math/tex; mode=display\">\\newcommand{\\Bold}[1]{\\mathbf{#1}}\\verb|<class|\\phantom{\\verb!x!}\\verb|'scipy.sparse.csr.csr_matrix'>|</script></html>"
      ],
      "text/plain": [
       "<class 'scipy.sparse.csr.csr_matrix'>"
      ]
     },
     "execution_count": 80,
     "metadata": {},
     "output_type": "execute_result"
    }
   ],
   "source": [
    "AN3csr = AN3.tocsr(); type(AN3csr)"
   ]
  },
  {
   "cell_type": "code",
   "execution_count": 81,
   "metadata": {
    "collapsed": false,
    "deletable": true,
    "editable": true
   },
   "outputs": [
    {
     "data": {
      "text/html": [
       "<html><script type=\"math/tex; mode=display\">\\newcommand{\\Bold}[1]{\\mathbf{#1}}\\begin{array}{l}\n",
       "\\phantom{\\verb!xx!}\\verb|(0,|\\phantom{\\verb!x!}\\verb|0)\t1.5|\\\\\n",
       "\\phantom{\\verb!xx!}\\verb|(0,|\\phantom{\\verb!x!}\\verb|3)\t-1.0|\\\\\n",
       "\\phantom{\\verb!xx!}\\verb|(1,|\\phantom{\\verb!x!}\\verb|1)\t-3.0|\\\\\n",
       "\\phantom{\\verb!xx!}\\verb|(1,|\\phantom{\\verb!x!}\\verb|3)\t1.0|\\\\\n",
       "\\phantom{\\verb!xx!}\\verb|(2,|\\phantom{\\verb!x!}\\verb|2)\t3.0|\\\\\n",
       "\\phantom{\\verb!xx!}\\verb|(2,|\\phantom{\\verb!x!}\\verb|7)\t-1.0|\\\\\n",
       "\\phantom{\\verb!xx!}\\verb|(2,|\\phantom{\\verb!x!}\\verb|8)\t-1.0|\\\\\n",
       "\\phantom{\\verb!xx!}\\verb|(3,|\\phantom{\\verb!x!}\\verb|3)\t-1.5|\\\\\n",
       "\\phantom{\\verb!xx!}\\verb|(3,|\\phantom{\\verb!x!}\\verb|7)\t1.0|\\\\\n",
       "\\phantom{\\verb!xx!}\\verb|(3,|\\phantom{\\verb!x!}\\verb|9)\t-1.0|\\\\\n",
       "\\phantom{\\verb!xx!}\\verb|(4,|\\phantom{\\verb!x!}\\verb|4)\t-1.5|\\\\\n",
       "\\phantom{\\verb!xx!}\\verb|(4,|\\phantom{\\verb!x!}\\verb|8)\t1.0|\\\\\n",
       "\\phantom{\\verb!xx!}\\verb|(4,|\\phantom{\\verb!x!}\\verb|11)\t-1.0|\\\\\n",
       "\\phantom{\\verb!xx!}\\verb|(5,|\\phantom{\\verb!x!}\\verb|5)\t-6.0|\\\\\n",
       "\\phantom{\\verb!xx!}\\verb|(5,|\\phantom{\\verb!x!}\\verb|9)\t1.0|\\\\\n",
       "\\phantom{\\verb!xx!}\\verb|(5,|\\phantom{\\verb!x!}\\verb|11)\t1.0|\\\\\n",
       "\\phantom{\\verb!xx!}\\verb|(6,|\\phantom{\\verb!x!}\\verb|6)\t4.5|\\\\\n",
       "\\phantom{\\verb!xx!}\\verb|(9,|\\phantom{\\verb!x!}\\verb|9)\t-4.5|\\\\\n",
       "\\phantom{\\verb!xx!}\\verb|(11,|\\phantom{\\verb!x!}\\verb|11)\t-4.5|\\\\\n",
       "\\phantom{\\verb!xx!}\\verb|(12,|\\phantom{\\verb!x!}\\verb|12)\t-4.5|\\\\\n",
       "\\phantom{\\verb!xx!}\\verb|(13,|\\phantom{\\verb!x!}\\verb|13)\t-9.0|\n",
       "\\end{array}</script></html>"
      ],
      "text/plain": [
       "<14x14 sparse matrix of type '<type 'numpy.float64'>'\n",
       "\twith 21 stored elements in Compressed Sparse Row format>"
      ]
     },
     "execution_count": 81,
     "metadata": {},
     "output_type": "execute_result"
    }
   ],
   "source": [
    "AN3csr.eliminate_zeros(); AN3csr"
   ]
  },
  {
   "cell_type": "code",
   "execution_count": 66,
   "metadata": {
    "collapsed": false,
    "deletable": true,
    "editable": true
   },
   "outputs": [
    {
     "data": {
      "text/html": [
       "<html><script type=\"math/tex; mode=display\">\\newcommand{\\Bold}[1]{\\mathbf{#1}}\\begin{array}{l}\n",
       "\\phantom{\\verb!xx!}\\verb|(0,|\\phantom{\\verb!x!}\\verb|0)\t1.5|\\\\\n",
       "\\phantom{\\verb!xx!}\\verb|(0,|\\phantom{\\verb!x!}\\verb|3)\t-1.0|\\\\\n",
       "\\phantom{\\verb!xx!}\\verb|(1,|\\phantom{\\verb!x!}\\verb|1)\t-3.0|\\\\\n",
       "\\phantom{\\verb!xx!}\\verb|(1,|\\phantom{\\verb!x!}\\verb|3)\t1.0|\\\\\n",
       "\\phantom{\\verb!xx!}\\verb|(2,|\\phantom{\\verb!x!}\\verb|2)\t3.0|\\\\\n",
       "\\phantom{\\verb!xx!}\\verb|(2,|\\phantom{\\verb!x!}\\verb|3)\t0.0|\\\\\n",
       "\\phantom{\\verb!xx!}\\verb|(2,|\\phantom{\\verb!x!}\\verb|6)\t0.0|\\\\\n",
       "\\phantom{\\verb!xx!}\\verb|(2,|\\phantom{\\verb!x!}\\verb|7)\t-1.0|\\\\\n",
       "\\phantom{\\verb!xx!}\\verb|(2,|\\phantom{\\verb!x!}\\verb|8)\t-1.0|\\\\\n",
       "\\phantom{\\verb!xx!}\\verb|(2,|\\phantom{\\verb!x!}\\verb|9)\t0.0|\\\\\n",
       "\\phantom{\\verb!xx!}\\verb|(3,|\\phantom{\\verb!x!}\\verb|2)\t0.0|\\\\\n",
       "\\phantom{\\verb!xx!}\\verb|(3,|\\phantom{\\verb!x!}\\verb|3)\t-1.5|\\\\\n",
       "\\phantom{\\verb!xx!}\\verb|(3,|\\phantom{\\verb!x!}\\verb|6)\t0.0|\\\\\n",
       "\\phantom{\\verb!xx!}\\verb|(3,|\\phantom{\\verb!x!}\\verb|7)\t1.0|\\\\\n",
       "\\phantom{\\verb!xx!}\\verb|(3,|\\phantom{\\verb!x!}\\verb|8)\t0.0|\\\\\n",
       "\\phantom{\\verb!xx!}\\verb|(3,|\\phantom{\\verb!x!}\\verb|9)\t-1.0|\\\\\n",
       "\\phantom{\\verb!xx!}\\verb|(4,|\\phantom{\\verb!x!}\\verb|4)\t-1.5|\\\\\n",
       "\\phantom{\\verb!xx!}\\verb|(4,|\\phantom{\\verb!x!}\\verb|5)\t0.0|\\\\\n",
       "\\phantom{\\verb!xx!}\\verb|(4,|\\phantom{\\verb!x!}\\verb|8)\t1.0|\\\\\n",
       "\\phantom{\\verb!xx!}\\verb|(4,|\\phantom{\\verb!x!}\\verb|9)\t0.0|\\\\\n",
       "\\phantom{\\verb!xx!}\\verb|(4,|\\phantom{\\verb!x!}\\verb|10)\t0.0|\\\\\n",
       "\\phantom{\\verb!xx!}\\verb|(4,|\\phantom{\\verb!x!}\\verb|11)\t-1.0|\\\\\n",
       "\\phantom{\\verb!xx!}\\verb|(5,|\\phantom{\\verb!x!}\\verb|4)\t0.0|\\\\\n",
       "\\phantom{\\verb!xx!}\\verb|(5,|\\phantom{\\verb!x!}\\verb|5)\t-6.0|\\\\\n",
       "\\phantom{\\verb!xx!}\\verb|(5,|\\phantom{\\verb!x!}\\verb|8)\t0.0|\\\\\n",
       "\\phantom{\\verb!xx!}\\verb|(5,|\\phantom{\\verb!x!}\\verb|9)\t1.0|\\\\\n",
       "\\phantom{\\verb!xx!}\\verb|(5,|\\phantom{\\verb!x!}\\verb|10)\t0.0|\\\\\n",
       "\\phantom{\\verb!xx!}\\verb|(5,|\\phantom{\\verb!x!}\\verb|11)\t1.0|\\\\\n",
       "\\phantom{\\verb!xx!}\\verb|(6,|\\phantom{\\verb!x!}\\verb|6)\t4.5|\\\\\n",
       "\\phantom{\\verb!xx!}\\verb|(6,|\\phantom{\\verb!x!}\\verb|7)\t0.0|\\\\\n",
       "\\phantom{\\verb!xx!}\\verb|(7,|\\phantom{\\verb!x!}\\verb|6)\t0.0|\\\\\n",
       "\\phantom{\\verb!xx!}\\verb|(7,|\\phantom{\\verb!x!}\\verb|7)\t0.0|\\\\\n",
       "\\phantom{\\verb!xx!}\\verb|(8,|\\phantom{\\verb!x!}\\verb|8)\t0.0|\\\\\n",
       "\\phantom{\\verb!xx!}\\verb|(8,|\\phantom{\\verb!x!}\\verb|9)\t0.0|\\\\\n",
       "\\phantom{\\verb!xx!}\\verb|(9,|\\phantom{\\verb!x!}\\verb|8)\t0.0|\\\\\n",
       "\\phantom{\\verb!xx!}\\verb|(9,|\\phantom{\\verb!x!}\\verb|9)\t-4.5|\\\\\n",
       "\\phantom{\\verb!xx!}\\verb|(10,|\\phantom{\\verb!x!}\\verb|10)\t0.0|\\\\\n",
       "\\phantom{\\verb!xx!}\\verb|(10,|\\phantom{\\verb!x!}\\verb|11)\t0.0|\\\\\n",
       "\\phantom{\\verb!xx!}\\verb|(11,|\\phantom{\\verb!x!}\\verb|10)\t0.0|\\\\\n",
       "\\phantom{\\verb!xx!}\\verb|(11,|\\phantom{\\verb!x!}\\verb|11)\t-4.5|\\\\\n",
       "\\phantom{\\verb!xx!}\\verb|(12,|\\phantom{\\verb!x!}\\verb|12)\t-4.5|\\\\\n",
       "\\phantom{\\verb!xx!}\\verb|(12,|\\phantom{\\verb!x!}\\verb|13)\t0.0|\\\\\n",
       "\\phantom{\\verb!xx!}\\verb|(13,|\\phantom{\\verb!x!}\\verb|12)\t0.0|\\\\\n",
       "\\phantom{\\verb!xx!}\\verb|(13,|\\phantom{\\verb!x!}\\verb|13)\t-9.0|\n",
       "\\end{array}</script></html>"
      ],
      "text/plain": [
       "<14x14 sparse matrix of type '<type 'numpy.float64'>'\n",
       "\twith 44 stored elements in Compressed Sparse Row format>"
      ]
     },
     "execution_count": 66,
     "metadata": {},
     "output_type": "execute_result"
    }
   ],
   "source": [
    "AN3csr = AN3.tocsr()''"
   ]
  },
  {
   "cell_type": "code",
   "execution_count": 72,
   "metadata": {
    "collapsed": false,
    "deletable": true,
    "editable": true
   },
   "outputs": [
    {
     "ename": "TypeError",
     "evalue": "unbound method eliminate_zeros() must be called with csr_matrix instance as first argument (got NoneType instance instead)",
     "output_type": "error",
     "traceback": [
      "\u001b[0;31m---------------------------------------------------------------------------\u001b[0m",
      "\u001b[0;31mTypeError\u001b[0m                                 Traceback (most recent call last)",
      "\u001b[0;32m<ipython-input-72-acba3b5626f9>\u001b[0m in \u001b[0;36m<module>\u001b[0;34m()\u001b[0m\n\u001b[0;32m----> 1\u001b[0;31m \u001b[0mcsr_matrix\u001b[0m\u001b[0;34m.\u001b[0m\u001b[0meliminate_zeros\u001b[0m\u001b[0;34m(\u001b[0m\u001b[0mAN3csr\u001b[0m\u001b[0;34m)\u001b[0m\u001b[0;34m\u001b[0m\u001b[0m\n\u001b[0m",
      "\u001b[0;31mTypeError\u001b[0m: unbound method eliminate_zeros() must be called with csr_matrix instance as first argument (got NoneType instance instead)"
     ]
    }
   ],
   "source": [
    "csr_matrix.eliminate_zeros(AN3csr)"
   ]
  },
  {
   "cell_type": "code",
   "execution_count": 27,
   "metadata": {
    "collapsed": false,
    "deletable": true,
    "editable": true,
    "scrolled": true
   },
   "outputs": [],
   "source": [
    "AN = matrix(AN(3).toarray())"
   ]
  },
  {
   "cell_type": "code",
   "execution_count": 12,
   "metadata": {
    "collapsed": false,
    "deletable": true,
    "editable": true
   },
   "outputs": [],
   "source": [
    "from carlin.io import solve_ode_exp\n",
    "\n",
    "# initial time\n",
    "tini = 0\n",
    "    \n",
    "# final time\n",
    "T = 5.\n",
    "\n",
    "# initial condition\n",
    "x0 = [5., 2.]\n",
    "\n",
    "# fixed number of resets\n",
    "NRESETS = 300\n",
    "\n",
    "# number of computation points in total\n",
    "NPOINTS = 1500\n",
    "\n",
    "tdom = srange(tini, T, (T-tini)/(NPOINTS-1)*1., include_endpoint=True)\n",
    "\n",
    "# number of samples in each chunk\n",
    "CHUNK_SIZE = int(NPOINTS/(NRESETS+1))\n",
    "\n",
    "# variable that we plot x1 -> 0 and x2 -> 1\n",
    "j = 1\n",
    "\n",
    "# number of dimensions of AN\n",
    "#AN(2).shape[0]"
   ]
  },
  {
   "cell_type": "code",
   "execution_count": 13,
   "metadata": {
    "collapsed": false,
    "deletable": true,
    "editable": true,
    "scrolled": true
   },
   "outputs": [],
   "source": [
    "#=========================\n",
    "# Time-triggered Algorithm\n",
    "#=========================\n",
    "\n",
    "# new plot?\n",
    "G = Graphics()\n",
    "\n",
    "# truncation order and color\n",
    "#N = 2; color=\"blue\"\n",
    "N = 3; color=\"violet\"\n",
    "#N = 4; color=\"orange\"\n",
    "#N = 8; color=\"red\"\n",
    "\n",
    "sol_tot = []\n",
    "tdom_k = tdom[0:CHUNK_SIZE]\n",
    "x0_k = x0\n",
    "sol_chunk_k = solve_ode_exp(AN(N), x0=x0_k, N=N, tini=tdom_k[0], T=tdom_k[-1], NPOINTS=CHUNK_SIZE)\n",
    "G += list_plot(zip(tdom_k, sol_chunk_k[:, j]), plotjoined=True, \n",
    "               linestyle=\"dashed\", color=color, legend_label=\"$N=\"+str(N)+\", r=\"+str(NRESETS)+\"$\")\n",
    "sol_tot.append(sol_chunk_k[:, 0:2])\n",
    "\n",
    "for i in range(1, NRESETS+1):\n",
    "    tdom_k = tdom[CHUNK_SIZE*(i)-1:CHUNK_SIZE*(i+1)]\n",
    "    x0_k = list(sol_chunk_k[-1, 0:2])\n",
    "    sol_chunk_k = solve_ode_exp(AN(N), x0=x0_k, N=N, tini=0, T=tdom_k[-1]-tdom_k[0], NPOINTS=CHUNK_SIZE+1)\n",
    "    sol_tot.append(sol_chunk_k[:, 0:2])\n",
    "    \n",
    "    # add point at switching time?\n",
    "    G += point([tdom_k[0], x0_k[1]], size=25, marker='x', color=color)\n",
    "    \n",
    "    # add solution for this chunk\n",
    "    G += list_plot(zip(tdom_k, sol_chunk_k[:, j]), plotjoined=True, linestyle=\"dashed\", color=color)"
   ]
  },
  {
   "cell_type": "code",
   "execution_count": 14,
   "metadata": {
    "collapsed": false,
    "deletable": true,
    "editable": true
   },
   "outputs": [],
   "source": [
    "# solution of the nonlinear ODE\n",
    "S = model.solve(x0=x0, tini=tini, T=T, NPOINTS=NPOINTS)\n",
    "x_t = lambda i : S.interpolate_solution(i)\n",
    "G += plot(x_t(j), tini, T, axes_labels = [\"$t$\", \"$x_2$\"], gridlines=True, color=\"black\")"
   ]
  },
  {
   "cell_type": "code",
   "execution_count": 15,
   "metadata": {
    "collapsed": false,
    "deletable": true,
    "editable": true
   },
   "outputs": [
    {
     "name": "stderr",
     "output_type": "stream",
     "text": [
      "/Users/forets/Tools/sage-master/local/lib/python2.7/site-packages/matplotlib/font_manager.py:273: UserWarning: Matplotlib is building the font cache using fc-list. This may take a moment.\n",
      "  warnings.warn('Matplotlib is building the font cache using fc-list. This may take a moment.')\n"
     ]
    },
    {
     "data": {
      "image/png": "[encoded data removed]",
      "text/plain": [
       "Graphics object consisting of 602 graphics primitives"
      ]
     },
     "metadata": {},
     "output_type": "display_data"
    }
   ],
   "source": [
    "#xmin=0; xmax=25; ymin=-2.2; ymax=10\n",
    "xmin=0; xmax=120; ymin=0; ymax=20\n",
    "G.show(gridlines=True, axes_labels = [\"$t$\", \"$x_2$\"], \n",
    "                 xmin=xmin, xmax=xmax, ymin=ymin,ymax=ymax,\n",
    "                tick_formatter=[[\"$0$\",\"$2$\", \"$4$\", \"$6$\", \"$8$\", \"$10$\", \"$12$\"], \n",
    "                             [\"$-2$\",\"$-1$\", \"$0$\", \"$1$\", \"$2$\"]],\n",
    "                ticks=[[0, 2, 4, 6, 8, 10, 12], \n",
    "                   [-2, -1, 0, 1, 2]],\n",
    "                legend_loc=\"upper right\")"
   ]
  },
  {
   "cell_type": "code",
   "execution_count": 78,
   "metadata": {
    "collapsed": true,
    "deletable": true,
    "editable": true
   },
   "outputs": [],
   "source": [
    "### save file\n",
    "xmin=0; xmax=12; ymin=-2.2; ymax=2.2\n",
    "G.save(\"timetrigg_vdp_g4.png\", gridlines=True, axes_labels = [\"$t$\", \"$x_2$\"], \n",
    "                 xmin=xmin, xmax=xmax, ymin=ymin,ymax=ymax,\n",
    "                tick_formatter=[[\"$0$\",\"$2$\", \"$4$\", \"$6$\", \"$8$\", \"$10$\", \"$12$\"], \n",
    "                             [\"$-2$\",\"$-1$\", \"$0$\", \"$1$\", \"$2$\"]],\n",
    "                ticks=[[0, 2, 4, 6, 8, 10, 12], \n",
    "                   [-2, -1, 0, 1, 2]],\n",
    "                legend_loc=\"upper right\")"
   ]
  },
  {
   "cell_type": "markdown",
   "metadata": {
    "deletable": true,
    "editable": true
   },
   "source": [
    "#### Plots in state space"
   ]
  },
  {
   "cell_type": "code",
   "execution_count": 229,
   "metadata": {
    "collapsed": false,
    "deletable": true,
    "editable": true
   },
   "outputs": [
    {
     "data": {
      "image/png": "[encoded data removed]",
      "text/plain": [
       "Graphics object consisting of 302 graphics primitives"
      ]
     },
     "metadata": {},
     "output_type": "display_data"
    }
   ],
   "source": [
    "Gss = Graphics()\n",
    "\n",
    "# add plot by time-triggered\n",
    "Gss += sum([list_plot(sol_chunk_k, \n",
    "               plotjoined=True, linestyle=\"solid\", gridlines=True, \n",
    "               axes_labels = ['$x_1$', '$x_2$']) \n",
    "     for sol_chunk_k in sol_tot])\n",
    "\n",
    "# add plot by numerical sol\n",
    "sol_x1 = [x_t(0)[i][1] for i in range(len(x_t(0)))]\n",
    "sol_x2 = [x_t(1)[i][1] for i in range(len(x_t(1)))]\n",
    "Gss += list_plot(zip(sol_x1, sol_x2), plotjoined=True, color=\"black\")\n",
    "\n",
    "Gss.show()"
   ]
  },
  {
   "cell_type": "markdown",
   "metadata": {
    "collapsed": true,
    "deletable": true,
    "editable": true
   },
   "source": [
    "## Export model to MAT"
   ]
  },
  {
   "cell_type": "code",
   "execution_count": 16,
   "metadata": {
    "collapsed": false,
    "deletable": true,
    "editable": true
   },
   "outputs": [],
   "source": [
    "from carlin.io import export_model_to_mat\n",
    "\n",
    "#export_model_to_mat('LV.mat', F=Fj, n=2, k=2)\n",
    "\n",
    "from carlin.transformation import linearize"
   ]
  },
  {
   "cell_type": "code",
   "execution_count": 17,
   "metadata": {
    "collapsed": false,
    "deletable": true,
    "editable": true
   },
   "outputs": [
    {
     "name": "stdout",
     "output_type": "stream",
     "text": [
      "Obtaining the canonical representation... done\n",
      "Computing matrix BN... done\n",
      "Computing the quadratic reduction... done\n",
      "Computing the characteristics of the model... done\n",
      "Exporting to  LV_Aachen_N_3.mat ... done\n"
     ]
    }
   ],
   "source": [
    "linearize(model, 'LV_Aachen_N_3.mat', 3, x0)"
   ]
  },
  {
   "cell_type": "code",
   "execution_count": 18,
   "metadata": {
    "collapsed": false,
    "deletable": true,
    "editable": true
   },
   "outputs": [],
   "source": [
    "from polyhedron_tools.misc import BoxInfty\n",
    "X0 = BoxInfty(lengths=[[4.8, 5.2], [1.8, 2.2]])"
   ]
  },
  {
   "cell_type": "code",
   "execution_count": 19,
   "metadata": {
    "collapsed": false,
    "deletable": true,
    "editable": true
   },
   "outputs": [
    {
     "name": "stdout",
     "output_type": "stream",
     "text": [
      "Obtaining the canonical representation... done\n",
      "Computing matrix BN... done\n",
      "Computing the quadratic reduction... done\n",
      "Computing the characteristics of the model... done\n",
      "Exporting to  LV_Aachen_N_3.mat ... done\n"
     ]
    }
   ],
   "source": [
    "linearize(model, 'LV_Aachen_N_3.mat', 3, X0)"
   ]
  },
  {
   "cell_type": "code",
   "execution_count": 20,
   "metadata": {
    "collapsed": false,
    "deletable": true,
    "editable": true
   },
   "outputs": [],
   "source": [
    "cp LV_Aachen_N_3.mat /Users/forets/Projects/carlin_reach/examples/"
   ]
  },
  {
   "cell_type": "code",
   "execution_count": 33,
   "metadata": {
    "collapsed": true,
    "deletable": true,
    "editable": true
   },
   "outputs": [],
   "source": [
    "linearize??"
   ]
  },
  {
   "cell_type": "code",
   "execution_count": 34,
   "metadata": {
    "collapsed": true,
    "deletable": true,
    "editable": true
   },
   "outputs": [],
   "source": [
    "truncated_matrix??"
   ]
  },
  {
   "cell_type": "code",
   "execution_count": null,
   "metadata": {
    "collapsed": true,
    "deletable": true,
    "editable": true
   },
   "outputs": [],
   "source": []
  }
 ],
 "metadata": {
  "kernelspec": {
   "display_name": "SageMath 8.0",
   "language": "",
   "name": "sagemath"
  },
  "language_info": {
   "codemirror_mode": {
    "name": "ipython",
    "version": 2
   },
   "file_extension": ".py",
   "mimetype": "text/x-python",
   "name": "python",
   "nbconvert_exporter": "python",
   "pygments_lexer": "ipython2",
   "version": "2.7.13"
  }
 },
 "nbformat": 4,
 "nbformat_minor": 0
}
